{
  "nbformat": 4,
  "nbformat_minor": 0,
  "metadata": {
    "colab": {
      "provenance": [],
      "authorship_tag": "ABX9TyN8uU0n4qiND8MhoSy7dn1F",
      "include_colab_link": true
    },
    "kernelspec": {
      "name": "python3",
      "display_name": "Python 3"
    },
    "language_info": {
      "name": "python"
    }
  },
  "cells": [
    {
      "cell_type": "markdown",
      "metadata": {
        "id": "view-in-github",
        "colab_type": "text"
      },
      "source": [
        "<a href=\"https://colab.research.google.com/github/Vishnu-916/CODSOFT/blob/main/Recommendation%20system.ipynb\" target=\"_parent\"><img src=\"https://colab.research.google.com/assets/colab-badge.svg\" alt=\"Open In Colab\"/></a>"
      ]
    },
    {
      "cell_type": "code",
      "execution_count": 5,
      "metadata": {
        "colab": {
          "base_uri": "https://localhost:8080/"
        },
        "id": "cCuhdDOFe9jR",
        "outputId": "0e878c67-4257-49e2-cf2e-d6a55940a3be"
      },
      "outputs": [
        {
          "output_type": "stream",
          "name": "stdout",
          "text": [
            "Available movies:\n",
            "1. Fight Club\n",
            "2. Interstellar\n",
            "3. The God Father\n",
            "4. The Shawshank Redemption\n",
            "5. Pulp Fiction\n",
            "6. Forrest Gump\n",
            "7. Inception\n",
            "8. The Matrix\n",
            "9. The Dark Knight\n",
            "\n",
            "Enter the number of the movie: 5\n",
            "\n",
            "Recommended movies for 'Pulp Fiction':\n",
            "8             The Dark Knight\n",
            "2              The God Father\n",
            "3    The Shawshank Redemption\n",
            "Name: title, dtype: object\n"
          ]
        }
      ],
      "source": [
        "import pandas as pd\n",
        "from sklearn.feature_extraction.text import TfidfVectorizer\n",
        "from sklearn.metrics.pairwise import cosine_similarity\n",
        "\n",
        "data={\n",
        "    'title':[\n",
        "        'Fight Club', 'Interstellar', 'The God Father',\n",
        "        'The Shawshank Redemption', 'Pulp Fiction', 'Forrest Gump',\n",
        "        'Inception', 'The Matrix', 'The Dark Knight'\n",
        "    ],\n",
        "    'description': [\n",
        "        'psychological thriller underground fighting',\n",
        "        'sci-fi space exploration time relativity',\n",
        "        'mafia crime drama family betrayal',\n",
        "        'prison drama hope friendship',\n",
        "        'crime drama non-linear dark humor',\n",
        "        'drama romance life inspirational',\n",
        "        'sci-fi action dreams subconscious',\n",
        "        'sci-fi action dystopia hacker virtual reality',\n",
        "        'superhero action crime drama'\n",
        "    ]\n",
        "}\n",
        "movies_df=pd.DataFrame(data)\n",
        "v=TfidfVectorizer(stop_words='english')\n",
        "tf_idf_matrix=v.fit_transform(movies_df['description'])\n",
        "\n",
        "cosine_sim=cosine_similarity(tf_idf_matrix, tf_idf_matrix)\n",
        "\n",
        "def recommend_movies(title, cosine_sim=cosine_sim):\n",
        "    idx=movies_df[movies_df['title']==title].index[0]\n",
        "    ss=list(enumerate(cosine_sim[idx]))\n",
        "    ss=sorted(ss, key=lambda x:x[1], reverse=True)[1:4]\n",
        "    movie_indices=[i[0] for i in ss]\n",
        "    return movies_df['title'].iloc[movie_indices]\n",
        "\n",
        "print(\"Available movies:\")\n",
        "for i, title in enumerate(movies_df['title'], start=1):\n",
        "    print(f\"{i}. {title}\")\n",
        "\n",
        "choice=int(input(\"\\nEnter the number of the movie: \"))\n",
        "selected_movie=movies_df['title'].iloc[choice-1]\n",
        "print(f\"\\nRecommended movies for '{selected_movie}':\")\n",
        "print(recommend_movies(selected_movie))"
      ]
    }
  ]
}