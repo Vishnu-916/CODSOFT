{
  "nbformat": 4,
  "nbformat_minor": 0,
  "metadata": {
    "colab": {
      "provenance": [],
      "authorship_tag": "ABX9TyNZSoiucp8ZK87pdvMqw3lb",
      "include_colab_link": true
    },
    "kernelspec": {
      "name": "python3",
      "display_name": "Python 3"
    },
    "language_info": {
      "name": "python"
    }
  },
  "cells": [
    {
      "cell_type": "markdown",
      "metadata": {
        "id": "view-in-github",
        "colab_type": "text"
      },
      "source": [
        "<a href=\"https://colab.research.google.com/github/Vishnu-916/CODSOFT/blob/main/Simple%20AI%20chatbot.ipynb\" target=\"_parent\"><img src=\"https://colab.research.google.com/assets/colab-badge.svg\" alt=\"Open In Colab\"/></a>"
      ]
    },
    {
      "cell_type": "code",
      "execution_count": null,
      "metadata": {
        "colab": {
          "base_uri": "https://localhost:8080/"
        },
        "id": "nsX6339fUNXc",
        "outputId": "feb51e7b-2825-4c99-9ea4-e2542c1ca505"
      },
      "outputs": [
        {
          "output_type": "stream",
          "name": "stdout",
          "text": [
            "ChatBot: Hi! I am a simple chatbot.\n",
            "You: hello\n",
            "ChatBot: Hello there, How can I help you?\n",
            "You: how are you\n",
            "ChatBot: I'm good here, How are you?\n",
            "You: your name\n",
            "I am your friendly neighbourhood AI. You can call me anyting.\n",
            "You: weather\n",
            "ChatBot: I think its sunny outside\n",
            "You: bye\n",
            "ChatBot: Bye, Have a good day.\n"
          ]
        }
      ],
      "source": [
        "def chatbot():\n",
        "  print(\"ChatBot: Hi! I am a simple chatbot.\")\n",
        "\n",
        "  while True:\n",
        "    user_input=input(\"You: \").lower()\n",
        "\n",
        "    if \"hello\" in user_input or \"hi\" in user_input:\n",
        "      print(\"ChatBot: Hello there, How can I help you?\")\n",
        "    elif \"how are you\" in user_input:\n",
        "      print(\"ChatBot: I'm good here, How are you?\")\n",
        "    elif \"your name\" in user_input:\n",
        "      print(\"I am your friendly neighbourhood AI. You can call me anything.\")\n",
        "    elif \"weather\" in user_input:\n",
        "      print(\"ChatBot: I think its sunny outside\")\n",
        "    elif \"bye\" in user_input:\n",
        "      print(\"ChatBot: Bye, Have a good day.\")\n",
        "      break\n",
        "    else:\n",
        "      print(\"I am not sure how to respond for that.\")\n",
        "chatbot()"
      ]
    }
  ]
}